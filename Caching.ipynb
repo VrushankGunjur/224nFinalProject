{
 "cells": [
  {
   "cell_type": "code",
   "execution_count": 38,
   "id": "2f45416d",
   "metadata": {},
   "outputs": [
    {
     "name": "stdout",
     "output_type": "stream",
     "text": [
      "tensor([[  464,  2068,  7586, 21831]])\n",
      "tensor([[  464,  2068,  7586, 21831,  1234]])\n",
      "tensor([[  464,  2068,  7586, 21831,  1234,  1234]])\n",
      "tensor([[  464,  2068,  7586, 21831,  1234,  1234,  1234]])\n",
      "tensor([[  464,  2068,  7586, 21831,  1234,  1234,  1234,  1234]])\n",
      "tensor([[  464,  2068,  7586, 21831,  1234,  1234,  1234,  1234,  1234]])\n",
      "tensor([[  464,  2068,  7586, 21831,  1234,  1234,  1234,  1234,  1234,  1234]])\n",
      "tensor([[  464,  2068,  7586, 21831,  1234,  1234,  1234,  1234,  1234,  1234,\n",
      "          1234]])\n",
      "tensor([[  464,  2068,  7586, 21831,  1234,  1234,  1234,  1234,  1234,  1234,\n",
      "          1234,  1234]])\n",
      "tensor([[  464,  2068,  7586, 21831,  1234,  1234,  1234,  1234,  1234,  1234,\n",
      "          1234,  1234,  1234]])\n",
      "tensor([[  464,  2068,  7586, 21831,  1234,  1234,  1234,  1234,  1234,  1234,\n",
      "          1234,  1234,  1234,  1234]])\n",
      "CPU times: user 2.59 s, sys: 1.05 s, total: 3.63 s\n",
      "Wall time: 4.19 s\n"
     ]
    }
   ],
   "source": [
    "%%time\n",
    "from transformers import GPT2LMHeadModel, GPT2Tokenizer\n",
    "\n",
    "# Load pre-trained GPT2 model and tokenizer\n",
    "model = GPT2LMHeadModel.from_pretrained(\"gpt2\")\n",
    "tokenizer = GPT2Tokenizer.from_pretrained(\"gpt2\")\n",
    "\n",
    "# Set up the input text\n",
    "input_text = \"The quick brown fox\"\n",
    "\n",
    "# Tokenize the input text\n",
    "input_ids = tokenizer.encode(input_text, return_tensors=\"pt\")\n",
    "\n",
    "# Generate the probabilities for the next word\n",
    "output = model(input_ids)\n",
    "next_token_logits = output[0][:, -1, :]\n",
    "print(input_ids)\n",
    "\n",
    "import torch.nn.functional as F\n",
    "\n",
    "# Convert logits to probabilities using softmax\n",
    "probs = F.softmax(next_token_logits, dim=-1)\n",
    "\n",
    "# Convert probabilities to a list of tuples (word_id, probability)\n",
    "probs_list = [(i, p.item()) for i, p in enumerate(probs[0])]\n",
    "\n",
    "\n",
    "n = 10 # replace with the number of words you want to generate\n",
    "for i in range(n):\n",
    "    output = model(input_ids)\n",
    "    next_token_logits = output[0][:, -1, :]\n",
    "    probs = F.softmax(next_token_logits, dim=-1)\n",
    "    probs_list = [(i, p.item()) for i, p in enumerate(probs[0])]\n",
    "    next_word_id = 1234 # replace with your chosen word id\n",
    "    next_word = tokenizer.decode(next_word_id)\n",
    "    input_ids = torch.cat([input_ids, torch.tensor([[next_word_id]])], dim=-1)\n",
    "    print(input_ids)"
   ]
  },
  {
   "cell_type": "code",
   "execution_count": 39,
   "id": "8760d981",
   "metadata": {},
   "outputs": [
    {
     "name": "stdout",
     "output_type": "stream",
     "text": [
      "tensor([[  464,  2068,  7586, 21831,  1234]])\n",
      "tensor([[  464,  2068,  7586, 21831,  1234,  1234]])\n",
      "tensor([[  464,  2068,  7586, 21831,  1234,  1234,  1234]])\n",
      "tensor([[  464,  2068,  7586, 21831,  1234,  1234,  1234,  1234]])\n",
      "tensor([[  464,  2068,  7586, 21831,  1234,  1234,  1234,  1234,  1234]])\n",
      "tensor([[  464,  2068,  7586, 21831,  1234,  1234,  1234,  1234,  1234,  1234]])\n",
      "tensor([[  464,  2068,  7586, 21831,  1234,  1234,  1234,  1234,  1234,  1234,\n",
      "          1234]])\n",
      "tensor([[  464,  2068,  7586, 21831,  1234,  1234,  1234,  1234,  1234,  1234,\n",
      "          1234,  1234]])\n",
      "tensor([[  464,  2068,  7586, 21831,  1234,  1234,  1234,  1234,  1234,  1234,\n",
      "          1234,  1234,  1234]])\n",
      "tensor([[  464,  2068,  7586, 21831,  1234,  1234,  1234,  1234,  1234,  1234,\n",
      "          1234,  1234,  1234,  1234]])\n",
      "CPU times: user 2.51 s, sys: 1.06 s, total: 3.57 s\n",
      "Wall time: 4.03 s\n"
     ]
    }
   ],
   "source": [
    "%%time\n",
    "from transformers import GPT2LMHeadModel, GPT2Tokenizer\n",
    "\n",
    "# Load pre-trained GPT2 model and tokenizer\n",
    "model = GPT2LMHeadModel.from_pretrained(\"gpt2\")\n",
    "tokenizer = GPT2Tokenizer.from_pretrained(\"gpt2\")\n",
    "\n",
    "# Set up the input text\n",
    "input_text = \"The quick brown fox\"\n",
    "\n",
    "# Tokenize the input text\n",
    "input_ids = tokenizer.encode(input_text, return_tensors=\"pt\")\n",
    "\n",
    "# Set up the past state\n",
    "past = None\n",
    "\n",
    "# Generate the next n words\n",
    "n = 10\n",
    "for i in range(n):\n",
    "    # Generate the probabilities for the next word\n",
    "    output = model(input_ids, past_key_values=past)\n",
    "    next_token_logits = output[0][:, -1, :]\n",
    "    past = output[1]\n",
    "\n",
    "    # Convert logits to probabilities using softmax\n",
    "    probs = F.softmax(next_token_logits, dim=-1)\n",
    "\n",
    "    # Convert probabilities to a list of tuples (word_id, probability)\n",
    "    probs_list = [(i, p.item()) for i, p in enumerate(probs[0])]\n",
    "\n",
    "    # Manually select the next word\n",
    "    next_word_id = 1234 # replace with your chosen word id\n",
    "    next_word = tokenizer.decode(next_word_id)\n",
    "\n",
    "    # Add the next word to the input sequence\n",
    "    input_ids = torch.cat([input_ids, torch.tensor([[next_word_id]])], dim=-1)\n",
    "    print(input_ids)\n"
   ]
  }
 ],
 "metadata": {
  "kernelspec": {
   "display_name": "Python 3 (ipykernel)",
   "language": "python",
   "name": "python3"
  },
  "language_info": {
   "codemirror_mode": {
    "name": "ipython",
    "version": 3
   },
   "file_extension": ".py",
   "mimetype": "text/x-python",
   "name": "python",
   "nbconvert_exporter": "python",
   "pygments_lexer": "ipython3",
   "version": "3.9.12"
  }
 },
 "nbformat": 4,
 "nbformat_minor": 5
}
