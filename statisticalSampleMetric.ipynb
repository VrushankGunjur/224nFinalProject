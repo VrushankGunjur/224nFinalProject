{
 "cells": [
  {
   "cell_type": "code",
   "execution_count": 205,
   "id": "3a243ce4",
   "metadata": {},
   "outputs": [],
   "source": [
    "# Imports\n",
    "import torch\n",
    "from transformers import AutoTokenizer, GPT2LMHeadModel\n",
    "import numpy as np\n",
    "import random\n",
    "import scipy.stats as stats\n",
    "import matplotlib\n",
    "import matplotlib.pyplot as plt"
   ]
  },
  {
   "cell_type": "code",
   "execution_count": 206,
   "id": "59e56e0b",
   "metadata": {},
   "outputs": [],
   "source": [
    "tokenizer = AutoTokenizer.from_pretrained(\"gpt2\")\n",
    "model = GPT2LMHeadModel.from_pretrained(\"gpt2\")"
   ]
  },
  {
   "cell_type": "code",
   "execution_count": 207,
   "id": "fbe8678f",
   "metadata": {},
   "outputs": [],
   "source": [
    "GloVe = {}\n",
    "with open(\"glove.6B/glove.6B.100d.txt\", \"r\", encoding=\"utf-8\") as vector_file:\n",
    "    for line in vector_file:\n",
    "        line_content = line.split()\n",
    "        word = line_content[0]\n",
    "        # There's probably a better way to read strings into a FloatTensor\n",
    "        word_vec = torch.from_numpy(np.asarray(line_content[1:], \"float32\"))\n",
    "        GloVe[word] = word_vec"
   ]
  },
  {
   "cell_type": "code",
   "execution_count": 225,
   "id": "a9ad7b9a",
   "metadata": {},
   "outputs": [],
   "source": [
    "# Define Word Bank\n",
    "word_bank = [\"academy\", \"advance\", \"aircraft\", \"ally\", \"ammo\", \"ammunition\", \"armor\", \"arms\", \"army\", \"arrow\", \"arsenal\", \"artillery\", \"attack\", \"attention\", \"ballistic\", \"barracks\", \"base\", \"battalion\", \"battery\", \"battle\", \"battlefield\", \"bomb\", \"bombard\", \"bombardment\", \"brig\", \"brigade\", \"bullet\", \"camouflage\", \"camp\", \"cannon\", \"captain\", \"capture\", \"carrier\", \"casualty\", \"catapult\", \"cavalry\", \"colonel\", \"combat\", \"command\", \"commander\", \"commission\", \"company\", \"conflict\", \"conquest\", \"convoy\", \"corps\", \"covert\", \"crew\", \"decode\", \"defeat\", \"defend\", \"defense\", \"destroyer\", \"division\", \"draft\", \"encode\", \"enemy\", \"engage\", \"enlist\", \"evacuate\", \"explosive\", \"fight\", \"fire\", \"fleet\", \"force\", \"formation\", \"fort\", \"front\", \"garrison\", \"general\", \"grenade\", \"grunt\", \"guerrilla\", \"gun\", \"headquarters\", \"helmet\", \"honor\", \"hospital\", \"infantry\", \"injury\", \"intelligence\", \"invade\", \"invasion\", \"jet\", \"kill\", \"leave\", \"lieutenant\", \"major\", \"maneuver\", \"marines\", \"MIA\", \"mid\", \"military\", \"mine\", \"missile\", \"mortar\", \"navy\", \"neutral\", \"offense\", \"officer\", \"ordinance\", \"parachute\", \"peace\", \"plane\", \"platoon\", \"private\", \"radar\", \"rank\", \"recruit\", \"regiment\", \"rescue\", \"reserves\", \"retreat\", \"ribbon\", \"sabotage\", \"sailor\", \"salute\", \"section\", \"sergeant\", \"service\", \"shell\", \"shoot\", \"shot\", \"siege\", \"sniper\", \"soldier\", \"spear\", \"specialist\", \"squad\", \"squadron\", \"staff\", \"submarine\", \"surrender\", \"tactical\", \"tactics\", \"tank\", \"torpedo\", \"troops\", \"truce\", \"uniform\", \"unit\", \"veteran\", \"volley\", \"war\", \"warfare\", \"warrior\", \"weapon\", \"win\", \"wound\"]"
   ]
  },
  {
   "cell_type": "code",
   "execution_count": 226,
   "id": "d04be3b7",
   "metadata": {},
   "outputs": [
    {
     "data": {
      "text/plain": [
       "torch.Size([149, 100])"
      ]
     },
     "execution_count": 226,
     "metadata": {},
     "output_type": "execute_result"
    }
   ],
   "source": [
    "# Create Word Embeddings Matrix\n",
    "wb_embeddings = torch.zeros((len(word_bank), 100))\n",
    "\n",
    "for i, word in enumerate(word_bank):\n",
    "    wb_embeddings[i] = GloVe[word.lower()]\n",
    "    \n",
    "wb_embeddings.size()"
   ]
  },
  {
   "cell_type": "code",
   "execution_count": 227,
   "id": "0b2c4d66",
   "metadata": {},
   "outputs": [],
   "source": [
    "def dot_similarity_score(word_emb):\n",
    "    similarities = torch.matmul(wb_embeddings, word_emb)\n",
    "    return similarities"
   ]
  },
  {
   "cell_type": "code",
   "execution_count": 228,
   "id": "225b2d1b",
   "metadata": {},
   "outputs": [],
   "source": [
    "def calc_p_value(score, dist):\n",
    "    score = float(score)\n",
    "    distribution = dist.tolist()\n",
    "    count = 0\n",
    "    for val in distribution:\n",
    "        if val >= score:\n",
    "            count += 1\n",
    "    emp_p = float(count) / NUM_SAMPLES\n",
    "    return emp_p"
   ]
  },
  {
   "cell_type": "code",
   "execution_count": 229,
   "id": "d8e56dde",
   "metadata": {},
   "outputs": [],
   "source": [
    "def calculate_score(emb):\n",
    "    sims = dot_similarity_score(emb).tolist()\n",
    "    p = []\n",
    "    \n",
    "    for i, sim in enumerate(sims):\n",
    "        p.append(calc_p_value(sim, dot_samples[i]))\n",
    "    \n",
    "    return np.mean(p) * 100"
   ]
  },
  {
   "cell_type": "code",
   "execution_count": 230,
   "id": "08c451d2",
   "metadata": {},
   "outputs": [],
   "source": [
    "# Create background distributions\n",
    "sample = 0\n",
    "NUM_SAMPLES = 50000\n",
    "vocab = list(GloVe.values())\n",
    "dot_samples = torch.zeros((NUM_SAMPLES, len(word_bank)))\n",
    "\n",
    "while sample < NUM_SAMPLES:\n",
    "    word = random.choice(vocab)\n",
    "    dot_vector = dot_similarity_score(word)\n",
    "    dot_samples[sample] = dot_vector\n",
    "    sample += 1\n",
    "        \n",
    "# Reshape so that it is indexable by word\n",
    "dot_samples = dot_samples.reshape(len(word_bank), NUM_SAMPLES)"
   ]
  },
  {
   "cell_type": "code",
   "execution_count": 231,
   "id": "57f9cd93",
   "metadata": {},
   "outputs": [
    {
     "data": {
      "image/png": "[encoded data removed]",
      "text/plain": [
       "<Figure size 640x480 with 1 Axes>"
      ]
     },
     "metadata": {},
     "output_type": "display_data"
    }
   ],
   "source": [
    "# Graph score count to check distributions\n",
    "plt.hist(dot_samples[0].tolist(), bins = 500)\n",
    "plt.show()"
   ]
  },
  {
   "cell_type": "code",
   "execution_count": 232,
   "id": "bd7404de",
   "metadata": {},
   "outputs": [
    {
     "data": {
      "text/plain": [
       "0.9262953020134228"
      ]
     },
     "execution_count": 232,
     "metadata": {},
     "output_type": "execute_result"
    }
   ],
   "source": [
    "calculate_score(GloVe[\"military\"])"
   ]
  },
  {
   "cell_type": "code",
   "execution_count": 233,
   "id": "1dd88ed1",
   "metadata": {},
   "outputs": [
    {
     "name": "stdout",
     "output_type": "stream",
     "text": [
      "Base GPT-2 Output:\n",
      "['The issue focused on the possibility of a \"long-term solution\" to the problem of climate change.\\n\\n']\n",
      "Custom Output: \n",
      "The issue focused on the use of force by the military to stop an attack on an American military base in Iraq.\n"
     ]
    }
   ],
   "source": [
    "# new implementation, using GloVe vectors\n",
    "\n",
    "# TODO: Custom Beam Search -- Keep n possibilities (beams) at each time\n",
    "# then, accumulate a probability associated with each (normalize by length of generation)\n",
    "\n",
    "# March 1st: Sampling, performance, normalization\n",
    "prompt = \"The issue focused\"\n",
    "\n",
    "print(\"Base GPT-2 Output:\")\n",
    "\n",
    "inputs = tokenizer(prompt, return_tensors=\"pt\")\n",
    "print(tokenizer.batch_decode(model.generate(**inputs, num_beams=3, do_sample=True, max_new_tokens=20, pad_token_id=50256)))\n",
    "\n",
    "top_k_val = 5\n",
    "NUM_TOK_TO_GEN = 40\n",
    "\n",
    "# take positional argument for which index to pick\n",
    "def generate_one(prompt_beam, idx):\n",
    "    prompt = prompt_beam[0]\n",
    "    score = prompt_beam[1]\n",
    "    inputs = tokenizer(prompt, return_tensors=\"pt\")\n",
    "    outputs = model(**inputs, labels=inputs[\"input_ids\"])\n",
    "    #print(outputs)\n",
    "    loss = outputs.loss\n",
    "    logits = outputs.logits\n",
    "    next_token_scores = logits[:, -1, :].softmax(dim=-1)\n",
    "\n",
    "    sorted_vals, indices = torch.sort(next_token_scores[0])\n",
    "    sorted_vals = sorted_vals[-top_k_val:]\n",
    "    indices = indices[-top_k_val:]\n",
    "\n",
    "    #print([tokenizer.decode(word) for word in indices])\n",
    "    # one of the generated words is blank (ACTUALLY \\n)\n",
    "    top_embeddings = []\n",
    "    for word_idx in range(len(indices)):\n",
    "        word = tokenizer.decode(indices[word_idx])\n",
    "        if word.strip().lower() not in GloVe.keys():\n",
    "            sorted_vals[word_idx] = 0  # disregard this token\n",
    "            #print(f'word: {word}')\n",
    "            top_embeddings.append(GloVe['failure'])\n",
    "        else:\n",
    "            if word[1:].isalpha() or word.isalpha():\n",
    "                top_embeddings.append(GloVe[word.strip().lower()])\n",
    "            else:\n",
    "                # TODO: getting here with 'A' or 'I'\n",
    "                top_embeddings.append(GloVe[word.strip()])\n",
    "\n",
    "\n",
    "    #top_embeddings = [GloVe[tokenizer.decode(word).strip().lower()] for word in indices]\n",
    "    #print(top_embeddings)\n",
    "\n",
    "    dist_score = [calculate_score(embed) for embed in top_embeddings]\n",
    "    #print(dist_score)\n",
    "\n",
    "    hyper_weight = .5\n",
    "\n",
    "    pre_rerank = sorted_vals.detach().clone()\n",
    "    # re-rank the weightings, factor in dist_score\n",
    "    for i in range(len(sorted_vals)):\n",
    "        if dist_score[i] == 0:\n",
    "            # avoid division by 0 (exact match)\n",
    "            sorted_vals[i] = 0\n",
    "        else:\n",
    "            sorted_vals[i] += (1/dist_score[i])*hyper_weight\n",
    "\n",
    "    sort_indices = torch.argsort(sorted_vals)\n",
    "    final_ranked_indices = [indices[s] for s in sort_indices]\n",
    "\n",
    "    # replace -1 with -idx for true beam search\n",
    "    # add variability instead for true decoding (TODO)\n",
    "    # TODO normalization\n",
    "    \n",
    "    best_word = tokenizer.decode(final_ranked_indices[-idx])\n",
    "    prompt += best_word\n",
    "    s_vals = sorted_vals[sort_indices]\n",
    "    # add normalization by length\n",
    "    # remove 'score +' here, and add normalization\n",
    "    return [prompt, score + s_vals[-idx].detach().numpy()]\n",
    "\n",
    "\n",
    "def beam_search(num_beams, tokens_to_generate):\n",
    "    beams = [[prompt, 0]]\n",
    "\n",
    "    #for token_num in range(NUM_TOK_TO_GEN):\n",
    "\n",
    "    for token_num in range(tokens_to_generate):\n",
    "        num_to_investigate = len(beams)\n",
    "        for beam_idx in range(num_to_investigate):\n",
    "            prompt_beam = beams[beam_idx]\n",
    "            for position in range(num_beams):\n",
    "                ret = generate_one(prompt_beam, position)\n",
    "                beams.append(ret)\n",
    "        # or normalize scores by length here\n",
    "        beams = sorted(beams, key=lambda x: -x[1])\n",
    "        #print(beams)\n",
    "        beams = beams[:num_beams]\n",
    "        #print(beams)\n",
    "    return beams\n",
    "\n",
    "result = beam_search(2, 20)\n",
    "print('Custom Output: ')\n",
    "print(result[0][0])\n"
   ]
  },
  {
   "cell_type": "code",
   "execution_count": 223,
   "id": "b81b55b5",
   "metadata": {},
   "outputs": [
    {
     "data": {
      "text/plain": [
       "tensor([[0, 0, 0],\n",
       "        [3, 3, 3],\n",
       "        [6, 6, 6],\n",
       "        [9, 9, 9]])"
      ]
     },
     "execution_count": 223,
     "metadata": {},
     "output_type": "execute_result"
    }
   ],
   "source": [
    "torch.tensor([[0, 1, 2], [3, 4, 5], [6, 7, 8], [9, 10, 11]]) - torch.tensor([0, 1, 2])"
   ]
  },
  {
   "cell_type": "code",
   "execution_count": null,
   "id": "60faa4fe",
   "metadata": {},
   "outputs": [],
   "source": []
  }
 ],
 "metadata": {
  "kernelspec": {
   "display_name": "Python 3 (ipykernel)",
   "language": "python",
   "name": "python3"
  },
  "language_info": {
   "codemirror_mode": {
    "name": "ipython",
    "version": 3
   },
   "file_extension": ".py",
   "mimetype": "text/x-python",
   "name": "python",
   "nbconvert_exporter": "python",
   "pygments_lexer": "ipython3",
   "version": "3.8.16"
  }
 },
 "nbformat": 4,
 "nbformat_minor": 5
}
